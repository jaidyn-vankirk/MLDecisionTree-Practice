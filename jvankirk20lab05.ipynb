{
 "cells": [
  {
   "attachments": {},
   "cell_type": "markdown",
   "id": "133deecc-a026-451b-a9ca-9cd40de0aebb",
   "metadata": {},
   "source": [
    "Jaidyn Vankirk"
   ]
  },
  {
   "attachments": {},
   "cell_type": "markdown",
   "id": "04a800fc-6537-46ea-b6c7-2cbe6ef77d9d",
   "metadata": {},
   "source": [
    "# Lab5: Decision Tree Learning\n",
    "\n",
    "Figuring out the sex of a porcupine can be a difficult task. They aren't always easy to handle, and when they are young they show no sexual dimorphism. \n",
    "\n",
    "We've been trapping, photographing, and measuring a large species of porcupine in the hope of developing a model for determining the gender from various other features (such as body dimensions).   It is our hope that we can eventually be quite accurate from our photo-based measurements.  \n"
   ]
  },
  {
   "cell_type": "code",
   "execution_count": 1,
   "id": "7be26b65-d1d1-421d-9f75-3bd915781cba",
   "metadata": {},
   "outputs": [],
   "source": [
    "import pandas as pd\n",
    "import numpy as np\n",
    "import matplotlib.pyplot as plt\n",
    "import math as m\n",
    "import statistics\n",
    "from sklearn import preprocessing\n",
    "from sklearn.model_selection import train_test_split\n",
    "from sklearn.metrics import accuracy_score\n",
    "from sklearn.tree import DecisionTreeClassifier\n",
    "from sklearn.utils import resample\n",
    "from sklearn.ensemble import RandomForestClassifier"
   ]
  },
  {
   "cell_type": "code",
   "execution_count": 2,
   "id": "7dc96044",
   "metadata": {},
   "outputs": [],
   "source": [
    "#Reads in file (I did have prints where I tested this.)\n",
    "df = pd.read_csv(\"animals.csv\")\n",
    "df = df.dropna()"
   ]
  },
  {
   "attachments": {},
   "cell_type": "markdown",
   "id": "ddf5ab91-5ffc-4472-be88-8007ab442ea6",
   "metadata": {},
   "source": [
    "#### Single Decision Tree Classifier\n",
    "\n",
    "Use the sklearn Decision Tree Classifier to develop a train and evaluate and test a model for classifying the gender of our animals from the other feature data.\n",
    "\n",
    "You should use 30% of your data for testing and 70% of your data for training.\n"
   ]
  },
  {
   "cell_type": "code",
   "execution_count": 3,
   "id": "61a89757-4f78-4944-96d9-9f86bbc8dab9",
   "metadata": {},
   "outputs": [
    {
     "data": {
      "text/html": [
       "<style>#sk-container-id-1 {color: black;}#sk-container-id-1 pre{padding: 0;}#sk-container-id-1 div.sk-toggleable {background-color: white;}#sk-container-id-1 label.sk-toggleable__label {cursor: pointer;display: block;width: 100%;margin-bottom: 0;padding: 0.3em;box-sizing: border-box;text-align: center;}#sk-container-id-1 label.sk-toggleable__label-arrow:before {content: \"▸\";float: left;margin-right: 0.25em;color: #696969;}#sk-container-id-1 label.sk-toggleable__label-arrow:hover:before {color: black;}#sk-container-id-1 div.sk-estimator:hover label.sk-toggleable__label-arrow:before {color: black;}#sk-container-id-1 div.sk-toggleable__content {max-height: 0;max-width: 0;overflow: hidden;text-align: left;background-color: #f0f8ff;}#sk-container-id-1 div.sk-toggleable__content pre {margin: 0.2em;color: black;border-radius: 0.25em;background-color: #f0f8ff;}#sk-container-id-1 input.sk-toggleable__control:checked~div.sk-toggleable__content {max-height: 200px;max-width: 100%;overflow: auto;}#sk-container-id-1 input.sk-toggleable__control:checked~label.sk-toggleable__label-arrow:before {content: \"▾\";}#sk-container-id-1 div.sk-estimator input.sk-toggleable__control:checked~label.sk-toggleable__label {background-color: #d4ebff;}#sk-container-id-1 div.sk-label input.sk-toggleable__control:checked~label.sk-toggleable__label {background-color: #d4ebff;}#sk-container-id-1 input.sk-hidden--visually {border: 0;clip: rect(1px 1px 1px 1px);clip: rect(1px, 1px, 1px, 1px);height: 1px;margin: -1px;overflow: hidden;padding: 0;position: absolute;width: 1px;}#sk-container-id-1 div.sk-estimator {font-family: monospace;background-color: #f0f8ff;border: 1px dotted black;border-radius: 0.25em;box-sizing: border-box;margin-bottom: 0.5em;}#sk-container-id-1 div.sk-estimator:hover {background-color: #d4ebff;}#sk-container-id-1 div.sk-parallel-item::after {content: \"\";width: 100%;border-bottom: 1px solid gray;flex-grow: 1;}#sk-container-id-1 div.sk-label:hover label.sk-toggleable__label {background-color: #d4ebff;}#sk-container-id-1 div.sk-serial::before {content: \"\";position: absolute;border-left: 1px solid gray;box-sizing: border-box;top: 0;bottom: 0;left: 50%;z-index: 0;}#sk-container-id-1 div.sk-serial {display: flex;flex-direction: column;align-items: center;background-color: white;padding-right: 0.2em;padding-left: 0.2em;position: relative;}#sk-container-id-1 div.sk-item {position: relative;z-index: 1;}#sk-container-id-1 div.sk-parallel {display: flex;align-items: stretch;justify-content: center;background-color: white;position: relative;}#sk-container-id-1 div.sk-item::before, #sk-container-id-1 div.sk-parallel-item::before {content: \"\";position: absolute;border-left: 1px solid gray;box-sizing: border-box;top: 0;bottom: 0;left: 50%;z-index: -1;}#sk-container-id-1 div.sk-parallel-item {display: flex;flex-direction: column;z-index: 1;position: relative;background-color: white;}#sk-container-id-1 div.sk-parallel-item:first-child::after {align-self: flex-end;width: 50%;}#sk-container-id-1 div.sk-parallel-item:last-child::after {align-self: flex-start;width: 50%;}#sk-container-id-1 div.sk-parallel-item:only-child::after {width: 0;}#sk-container-id-1 div.sk-dashed-wrapped {border: 1px dashed gray;margin: 0 0.4em 0.5em 0.4em;box-sizing: border-box;padding-bottom: 0.4em;background-color: white;}#sk-container-id-1 div.sk-label label {font-family: monospace;font-weight: bold;display: inline-block;line-height: 1.2em;}#sk-container-id-1 div.sk-label-container {text-align: center;}#sk-container-id-1 div.sk-container {/* jupyter's `normalize.less` sets `[hidden] { display: none; }` but bootstrap.min.css set `[hidden] { display: none !important; }` so we also need the `!important` here to be able to override the default hidden behavior on the sphinx rendered scikit-learn.org. See: https://github.com/scikit-learn/scikit-learn/issues/21755 */display: inline-block !important;position: relative;}#sk-container-id-1 div.sk-text-repr-fallback {display: none;}</style><div id=\"sk-container-id-1\" class=\"sk-top-container\"><div class=\"sk-text-repr-fallback\"><pre>DecisionTreeClassifier(criterion=&#x27;entropy&#x27;, random_state=1)</pre><b>In a Jupyter environment, please rerun this cell to show the HTML representation or trust the notebook. <br />On GitHub, the HTML representation is unable to render, please try loading this page with nbviewer.org.</b></div><div class=\"sk-container\" hidden><div class=\"sk-item\"><div class=\"sk-estimator sk-toggleable\"><input class=\"sk-toggleable__control sk-hidden--visually\" id=\"sk-estimator-id-1\" type=\"checkbox\" checked><label for=\"sk-estimator-id-1\" class=\"sk-toggleable__label sk-toggleable__label-arrow\">DecisionTreeClassifier</label><div class=\"sk-toggleable__content\"><pre>DecisionTreeClassifier(criterion=&#x27;entropy&#x27;, random_state=1)</pre></div></div></div></div></div>"
      ],
      "text/plain": [
       "DecisionTreeClassifier(criterion='entropy', random_state=1)"
      ]
     },
     "execution_count": 3,
     "metadata": {},
     "output_type": "execute_result"
    }
   ],
   "source": [
    "#Transforms the gender column from 'm' and 'f' to 0 and 1.\n",
    "label_encoder = preprocessing.LabelEncoder()\n",
    "gender_label_encoder = label_encoder.fit(df.gender)\n",
    "df.gender = gender_label_encoder.transform(df.gender)\n",
    "\n",
    "#Splits gender off as the classification\n",
    "X = df.drop('gender', axis=1)\n",
    "y = df.gender\n",
    "\n",
    "#Splits the train and the test set\n",
    "X_train, X_test, y_train, y_test = train_test_split(X, y, test_size=0.3)\n",
    "#Creates the single decision tree\n",
    "tree = DecisionTreeClassifier(criterion='entropy', max_depth=None, random_state=1)\n",
    "#Trains the single decision tree\n",
    "tree.fit(X_train, y_train)\n"
   ]
  },
  {
   "attachments": {},
   "cell_type": "markdown",
   "id": "cfbed990-cc5a-476c-ae78-0291cd7fef4c",
   "metadata": {},
   "source": [
    "#### Test for Overfitting\n",
    "\n",
    "Compare the accuracy of your trained model on your training data against the testing data.   If your decision tree overfitting?\n"
   ]
  },
  {
   "cell_type": "code",
   "execution_count": 4,
   "id": "cd700ecf",
   "metadata": {},
   "outputs": [],
   "source": [
    "#Function to calculate the percent that our tree classified correctly\n",
    "def correct_percent(predicted, test_ans) -> float:\n",
    "    counter = 0\n",
    "    for i in range(len(predicted)):\n",
    "        if predicted[i] == test_ans[i]:\n",
    "            counter += 1\n",
    "    \n",
    "    return (counter/test_ans.size) * 100"
   ]
  },
  {
   "cell_type": "code",
   "execution_count": 5,
   "id": "283ebcc5-be76-4c66-a7d3-8e87068a3c22",
   "metadata": {},
   "outputs": [
    {
     "name": "stdout",
     "output_type": "stream",
     "text": [
      "Test Percent Correct: 51.61290322580645\n",
      "Train Percent Correct: 100.0\n"
     ]
    }
   ],
   "source": [
    "predicted = gender_label_encoder.inverse_transform(tree.predict(X_test))\n",
    "test_ans = gender_label_encoder.inverse_transform(y_test)\n",
    "\n",
    "perc = correct_percent(predicted, test_ans)\n",
    "print('Test Percent Correct: ' + str(perc))\n",
    "\n",
    "predicted = gender_label_encoder.inverse_transform(tree.predict(X_train))\n",
    "test_ans = gender_label_encoder.inverse_transform(y_train)\n",
    "\n",
    "perc = correct_percent(predicted, test_ans)\n",
    "print('Train Percent Correct: ' + str(perc))"
   ]
  },
  {
   "attachments": {},
   "cell_type": "markdown",
   "id": "696a2006-6fc6-4137-8d0d-927aa4e1a933",
   "metadata": {},
   "source": [
    "# Bagging\n",
    "\n",
    "Create a list of ten trained Decision Tree Classifiers trained using bagging (resampling with replacement).\n",
    "\n",
    "Use the list of trained classifiers to test and evaluate using  test data. \n",
    "\n",
    "How does this compare with a single Decision Tree Classifier above"
   ]
  },
  {
   "cell_type": "code",
   "execution_count": 6,
   "id": "a18029cc",
   "metadata": {},
   "outputs": [],
   "source": [
    "#Tallies the votes (what each tree has classified the given data) of the trees and gives a final prediction based on which classification has the highest amount of votes.\n",
    "def vote(y, trees_predicted) -> []:\n",
    "    predicted = []\n",
    "    for i in range(len(y)):\n",
    "        setOfPredictions = []\n",
    "        for j in trees_predicted:\n",
    "            setOfPredictions.append(j[i])\n",
    "        predicted.append(statistics.mode(setOfPredictions))\n",
    "    return predicted"
   ]
  },
  {
   "cell_type": "code",
   "execution_count": 7,
   "id": "5715570d",
   "metadata": {},
   "outputs": [
    {
     "ename": "StatisticsError",
     "evalue": "no mode for empty data",
     "output_type": "error",
     "traceback": [
      "\u001b[0;31m---------------------------------------------------------------------------\u001b[0m",
      "\u001b[0;31mStatisticsError\u001b[0m                           Traceback (most recent call last)",
      "Cell \u001b[0;32mIn[7], line 29\u001b[0m\n\u001b[1;32m     26\u001b[0m     trees_predicted_train\u001b[39m.\u001b[39mappend(gender_label_encoder\u001b[39m.\u001b[39minverse_transform(decision_trees[i]\u001b[39m.\u001b[39mpredict(X_train)))\n\u001b[1;32m     28\u001b[0m \u001b[39m#voting for test data - I probably should have made a function for this.\u001b[39;00m\n\u001b[0;32m---> 29\u001b[0m predicted_test \u001b[39m=\u001b[39m vote(y_test, trees_predicted_test)\n\u001b[1;32m     31\u001b[0m \u001b[39m#voting for train data\u001b[39;00m\n\u001b[1;32m     32\u001b[0m predicted_train \u001b[39m=\u001b[39m vote(y_train, trees_predicted_train)\n",
      "Cell \u001b[0;32mIn[6], line 8\u001b[0m, in \u001b[0;36mvote\u001b[0;34m(y, trees_predicted)\u001b[0m\n\u001b[1;32m      6\u001b[0m     \u001b[39mfor\u001b[39;00m j \u001b[39min\u001b[39;00m trees_predicted:\n\u001b[1;32m      7\u001b[0m         setOfPredictions\n\u001b[0;32m----> 8\u001b[0m     predicted\u001b[39m.\u001b[39mappend(statistics\u001b[39m.\u001b[39;49mmode(setOfPredictions))\n\u001b[1;32m      9\u001b[0m \u001b[39mreturn\u001b[39;00m predicted\n",
      "File \u001b[0;32m~/anaconda3/lib/python3.10/statistics.py:583\u001b[0m, in \u001b[0;36mmode\u001b[0;34m(data)\u001b[0m\n\u001b[1;32m    581\u001b[0m     \u001b[39mreturn\u001b[39;00m pairs[\u001b[39m0\u001b[39m][\u001b[39m0\u001b[39m]\n\u001b[1;32m    582\u001b[0m \u001b[39mexcept\u001b[39;00m \u001b[39mIndexError\u001b[39;00m:\n\u001b[0;32m--> 583\u001b[0m     \u001b[39mraise\u001b[39;00m StatisticsError(\u001b[39m'\u001b[39m\u001b[39mno mode for empty data\u001b[39m\u001b[39m'\u001b[39m) \u001b[39mfrom\u001b[39;00m \u001b[39mNone\u001b[39;00m\n",
      "\u001b[0;31mStatisticsError\u001b[0m: no mode for empty data"
     ]
    }
   ],
   "source": [
    "#Will hold our 10 different trained decision trees\n",
    "decision_trees = []\n",
    "#Will hold the predictions they made about the test data and train data\n",
    "trees_predicted_test = []\n",
    "trees_predicted_train =[]\n",
    "#For loop that trains our trees\n",
    "for i in range(10):\n",
    "    #Creates a copy of our training data\n",
    "    train = X_train.copy()\n",
    "    #Creates a copy of our training classification\n",
    "    train['gender'] = y_train\n",
    "    #Resamples our data with replacement\n",
    "    Ti = resample(train, n_samples=len(train), replace=True)\n",
    "    #I like to do this process multiple times\n",
    "    for j in range(10):\n",
    "        Ti = resample(Ti, n_samples=len(Ti), replace=True)\n",
    "    #Seperate the training and classification data\n",
    "    Xi_train = Ti[X_train.columns]\n",
    "    yi_train = Ti['gender']\n",
    "    #Adds the new tree\n",
    "    decision_trees.append(DecisionTreeClassifier(criterion='entropy', max_depth=None, random_state=1))\n",
    "    #Trains the tree\n",
    "    decision_trees[i].fit(Xi_train, yi_train)\n",
    "    #Adds predictions\n",
    "    trees_predicted_test.append(gender_label_encoder.inverse_transform(decision_trees[i].predict(X_test)))\n",
    "    trees_predicted_train.append(gender_label_encoder.inverse_transform(decision_trees[i].predict(X_train)))\n",
    "\n",
    "predicted_test = vote(y_test, trees_predicted_test)\n",
    "\n",
    "#voting for train data\n",
    "predicted_train = vote(y_train, trees_predicted_train)\n",
    "\n",
    "test_ans = gender_label_encoder.inverse_transform(y_test)\n",
    "perc = correct_percent(predicted_test, test_ans)\n",
    "print('Test Percent Correct: ' + str(perc))\n",
    "\n",
    "\n",
    "test_ans = gender_label_encoder.inverse_transform(y_train)\n",
    "perc = correct_percent(predicted_train, test_ans)\n",
    "print('Train Percent Correct: ' + str(perc))\n",
    "    "
   ]
  },
  {
   "attachments": {},
   "cell_type": "markdown",
   "id": "29674f6d-eb10-4b82-b83c-b3c15732906c",
   "metadata": {},
   "source": [
    "# Random Forest\n",
    "\n",
    "Repeat the above using sklearn's *RandomForestClassifier*.\n",
    "\n",
    "Refer to the following:  https://builtin.com/data-science/random-forest-algorithm \n"
   ]
  },
  {
   "cell_type": "code",
   "execution_count": null,
   "id": "5558c861-4dd0-472d-a9ec-1bcd24ceaf64",
   "metadata": {},
   "outputs": [
    {
     "name": "stdout",
     "output_type": "stream",
     "text": [
      "Test Percent Correct: 54.83870967741935\n",
      "Train Percent Correct: 78.57142857142857\n"
     ]
    }
   ],
   "source": [
    "#Creates the random forest classifier\n",
    "rf = RandomForestClassifier()\n",
    "rf.fit(X_train, y_train)\n",
    "\n",
    "predicted = gender_label_encoder.inverse_transform(rf.predict(X_test))\n",
    "test_ans = gender_label_encoder.inverse_transform(y_test)\n",
    "\n",
    "perc = correct_percent(predicted, test_ans)\n",
    "print('Test Percent Correct: ' + str(perc))\n",
    "\n",
    "predicted = gender_label_encoder.inverse_transform(rf.predict(X_train))\n",
    "test_ans = gender_label_encoder.inverse_transform(y_train)\n",
    "\n",
    "perc = correct_percent(predicted_train, test_ans)\n",
    "print('Train Percent Correct: ' + str(perc))"
   ]
  },
  {
   "attachments": {},
   "cell_type": "markdown",
   "id": "9f2d52d3-7886-4034-a5ee-1ed5f426c327",
   "metadata": {},
   "source": [
    "#### Which features are important?"
   ]
  },
  {
   "attachments": {},
   "cell_type": "markdown",
   "id": "52779c92",
   "metadata": {},
   "source": [
    "#### What are the target variable prediction probabilities for your test?"
   ]
  },
  {
   "cell_type": "code",
   "execution_count": null,
   "id": "9f34fb4e",
   "metadata": {},
   "outputs": [
    {
     "data": {
      "text/plain": [
       "<BarContainer object of 10 artists>"
      ]
     },
     "execution_count": 692,
     "metadata": {},
     "output_type": "execute_result"
    },
    {
     "data": {
      "image/png": "[encoded data removed]",
      "text/plain": [
       "<Figure size 640x480 with 1 Axes>"
      ]
     },
     "metadata": {},
     "output_type": "display_data"
    }
   ],
   "source": [
    "values = df.columns.values\n",
    "values = np.delete(values, 0)\n",
    "plt.barh(values, rf.feature_importances_)"
   ]
  },
  {
   "attachments": {},
   "cell_type": "markdown",
   "id": "5368e442-954c-4d24-8d72-b40495c11983",
   "metadata": {},
   "source": [
    "## Reflection ##\n",
    "\n",
    "#### What did you learn? ####\n",
    "Append a markdown cell providing a bulleted list of observations and/or lessons learned."
   ]
  },
  {
   "attachments": {},
   "cell_type": "markdown",
   "id": "de75f674",
   "metadata": {},
   "source": [
    "The Single Decision Tree has a tendency to overfit. It always averages around 50% for the test data and 90-100% for the train data. With bagging, it tends to get around the same accuracy as the one tree, but the accuracy for the train data is around 70%, meaning that it is doing less overfitting. The Random forest tends to be 60-70% percent, with accuracy for the training being around 65-70%. However, this also could partially be due to my runs. The random forest classifier overfits the least and is the most accurate. In addition, it allows us to understand what features are the most important in our data set, although, for me, it changes every run."
   ]
  },
  {
   "attachments": {},
   "cell_type": "markdown",
   "id": "0813de86-dc14-4e48-a9e9-fc2415cbb852",
   "metadata": {},
   "source": []
  }
 ],
 "metadata": {
  "kernelspec": {
   "display_name": "Python 3 (ipykernel)",
   "language": "python",
   "name": "python3"
  },
  "language_info": {
   "codemirror_mode": {
    "name": "ipython",
    "version": 3
   },
   "file_extension": ".py",
   "mimetype": "text/x-python",
   "name": "python",
   "nbconvert_exporter": "python",
   "pygments_lexer": "ipython3",
   "version": "3.10.11"
  }
 },
 "nbformat": 4,
 "nbformat_minor": 5
}
