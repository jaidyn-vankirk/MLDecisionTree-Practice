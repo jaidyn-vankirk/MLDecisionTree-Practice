{
 "cells": [
  {
   "cell_type": "markdown",
   "id": "133deecc-a026-451b-a9ca-9cd40de0aebb",
   "metadata": {},
   "source": [
    "> Your Name Here"
   ]
  },
  {
   "cell_type": "markdown",
   "id": "04a800fc-6537-46ea-b6c7-2cbe6ef77d9d",
   "metadata": {},
   "source": [
    "# Lab5: Decision Tree Learning\n",
    "\n",
    "Figuring out the sex of a porcupine can be a difficult task. They aren't always easy to handle, and when they are young they show no sexual dimorphism. \n",
    "\n",
    "We've been trapping, photographing, and measuring a large species of porcupine in the hope of developing a model for determining the gender from various other features (such as body dimensions).   It is our hope that we can eventually be quite accurate from our photo-based measurements.  \n"
   ]
  },
  {
   "cell_type": "code",
   "execution_count": null,
   "id": "7be26b65-d1d1-421d-9f75-3bd915781cba",
   "metadata": {},
   "outputs": [],
   "source": [
    "import pandas as pd\n",
    "import numpy as np\n",
    "import matplotlib.pyplot as plt\n",
    "import math as m"
   ]
  },
  {
   "cell_type": "code",
   "execution_count": null,
   "id": "7dc96044",
   "metadata": {},
   "outputs": [],
   "source": [
    "df = pd.read_csv(\"animals.csv\")\n",
    "df"
   ]
  },
  {
   "cell_type": "markdown",
   "id": "ddf5ab91-5ffc-4472-be88-8007ab442ea6",
   "metadata": {},
   "source": [
    "#### Single Decision Tree Classifier\n",
    "\n",
    "Use the sklearn Decision Tree Classifier to develop a train and evaluate and test a model for classifying the gender of our animals from the other feature data.\n",
    "\n",
    "You should use 30% of your data for testing and 70% of your data for training.\n"
   ]
  },
  {
   "cell_type": "code",
   "execution_count": null,
   "id": "61a89757-4f78-4944-96d9-9f86bbc8dab9",
   "metadata": {},
   "outputs": [],
   "source": [
    "## your definition here"
   ]
  },
  {
   "cell_type": "markdown",
   "id": "cfbed990-cc5a-476c-ae78-0291cd7fef4c",
   "metadata": {},
   "source": [
    "#### Test for Overfitting\n",
    "\n",
    "Compare the accuracy of your trained model on your training data against the testing data.   If your decision tree overfitting?\n"
   ]
  },
  {
   "cell_type": "code",
   "execution_count": null,
   "id": "283ebcc5-be76-4c66-a7d3-8e87068a3c22",
   "metadata": {},
   "outputs": [],
   "source": [
    "## your code here"
   ]
  },
  {
   "cell_type": "markdown",
   "id": "696a2006-6fc6-4137-8d0d-927aa4e1a933",
   "metadata": {},
   "source": [
    "# Bagging\n",
    "\n",
    "Create a list of ten trained Decision Tree Classifiers trained using bagging (resampling with replacement).\n",
    "\n",
    "Use the list of trained classifiers to test and evaluate using  test data. \n",
    "\n",
    "How does this compare with a single Decision Tree Classifier above"
   ]
  },
  {
   "cell_type": "markdown",
   "id": "29674f6d-eb10-4b82-b83c-b3c15732906c",
   "metadata": {},
   "source": [
    "# Random Forest\n",
    "\n",
    "Repeat the above using sklearn's *RandomForestClassifier*.\n",
    "\n",
    "Refer to the following:  https://builtin.com/data-science/random-forest-algorithm \n"
   ]
  },
  {
   "cell_type": "code",
   "execution_count": null,
   "id": "5558c861-4dd0-472d-a9ec-1bcd24ceaf64",
   "metadata": {},
   "outputs": [],
   "source": [
    "## your code here"
   ]
  },
  {
   "cell_type": "markdown",
   "id": "9f2d52d3-7886-4034-a5ee-1ed5f426c327",
   "metadata": {},
   "source": [
    "#### Which features are important?\n",
    "\n",
    "#### What are the target prediction probabilities for your test?"
   ]
  },
  {
   "cell_type": "markdown",
   "id": "5368e442-954c-4d24-8d72-b40495c11983",
   "metadata": {},
   "source": [
    "## Reflection ##\n",
    "\n",
    "#### What did you learn? ####\n",
    "Append a markdown cell providing a bulleted list of observations and/or lessons learned."
   ]
  },
  {
   "cell_type": "markdown",
   "id": "0813de86-dc14-4e48-a9e9-fc2415cbb852",
   "metadata": {},
   "source": []
  }
 ],
 "metadata": {
  "kernelspec": {
   "display_name": "Python 3 (ipykernel)",
   "language": "python",
   "name": "python3"
  },
  "language_info": {
   "codemirror_mode": {
    "name": "ipython",
    "version": 3
   },
   "file_extension": ".py",
   "mimetype": "text/x-python",
   "name": "python",
   "nbconvert_exporter": "python",
   "pygments_lexer": "ipython3",
   "version": "3.9.13"
  }
 },
 "nbformat": 4,
 "nbformat_minor": 5
}
